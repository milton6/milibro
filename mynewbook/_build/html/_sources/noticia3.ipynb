{
 "cells": [
  {
   "cell_type": "markdown",
   "id": "b74cdb0f",
   "metadata": {},
   "source": [
    "# Noticia 3\n",
    "\n",
    "## Jackson, el perrito que cuidó a su dueño muerto en calle de México\n",
    "\n",
    "Jackson es un perrito de tres años que acompañó a su dueño, una persona en situación de calle, hasta sus últimos momentos de vida.\n",
    "\n",
    "Ante esta escena acudieron veterinarios para examinar al animal. Después de una revisión se determinó que se encontraba en óptimas condiciones. Posteriormente le realizaron su desparasitación y sus vacunas fueron programadas para los próximos meses.\n",
    "\n",
    "Evelyn Parra, alcaldesa de Venustiano Carranza, localidad donde falleció la persona en situación de calle, informó que la mascota fue ubicada en un hogar temporal. Esa familia deberá cumplir con los trámites para su adopción.\n",
    "\n",
    "```\n",
    "jupyter-book myst init path/to/markdownfile.md\n",
    "```"
   ]
  }
 ],
 "metadata": {
  "jupytext": {
   "cell_metadata_filter": "-all",
   "formats": "md:myst",
   "text_representation": {
    "extension": ".md",
    "format_name": "myst",
    "format_version": 0.13,
    "jupytext_version": "1.11.5"
   }
  },
  "kernelspec": {
   "display_name": "Python 3",
   "language": "python",
   "name": "python3"
  },
  "language_info": {
   "codemirror_mode": {
    "name": "ipython",
    "version": 3
   },
   "file_extension": ".py",
   "mimetype": "text/x-python",
   "name": "python",
   "nbconvert_exporter": "python",
   "pygments_lexer": "ipython3",
   "version": "3.10.4"
  },
  "source_map": [
   14
  ]
 },
 "nbformat": 4,
 "nbformat_minor": 5
}